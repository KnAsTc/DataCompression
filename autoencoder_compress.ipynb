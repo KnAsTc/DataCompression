{
 "cells": [
  {
   "cell_type": "markdown",
   "metadata": {},
   "source": [
    "# 資料出處:https://blog.csdn.net/Cy_coding/article/details/113840883"
   ]
  },
  {
   "cell_type": "code",
   "execution_count": 2,
   "metadata": {},
   "outputs": [],
   "source": [
    "from tensorflow.keras.datasets import mnist\n",
    "import tensorflow as tf\n",
    "from tensorflow.keras.layers import Input,Dense, Conv2D, Conv2DTranspose, MaxPooling2D, Flatten, UpSampling2D, Reshape\n",
    "from tensorflow.keras.models import Model,Sequential\n",
    "import numpy as np\n",
    "import matplotlib.pyplot as plt"
   ]
  },
  {
   "cell_type": "markdown",
   "metadata": {},
   "source": [
    "加載數據並對mnist圖像數據進行預處理<br>\n",
    "包括正則化以及將圖片擴充成28，28，1的三維。<br>"
   ]
  },
  {
   "cell_type": "code",
   "execution_count": 3,
   "metadata": {},
   "outputs": [],
   "source": [
    "(x_train, y_train), (x_test, y_test) = mnist.load_data()\n",
    "# 正則化的部分\n",
    "x_train=x_train.astype('float32')/float(x_train.max())\n",
    "x_test=x_test.astype('float32')/float(x_test.max())\n",
    "#擴充成3維的部分\n",
    "x_train=x_train.reshape(len(x_train),x_train.shape[1], x_train.shape[2], 1)\n",
    "x_test=x_test.reshape(len(x_test),x_test.shape[1], x_test.shape[2], 1)\n",
    "\n"
   ]
  },
  {
   "cell_type": "markdown",
   "metadata": {},
   "source": [
    "神經網路的部分<br>\n",
    "都由兩層捲積所構成<br>\n",
    "編碼器的池化層對應解碼器的UpSampling2D<br>\n",
    "所以輸入輸出的維度是一致的<br>\n",
    "而編碼器會將原圖做兩次捲積，得到的值就是我們的壓縮。<br>\n",
    "由於還原回去的圖不會和原圖一樣，這是一種失真壓縮。"
   ]
  },
  {
   "cell_type": "code",
   "execution_count": 3,
   "metadata": {},
   "outputs": [
    {
     "name": "stdout",
     "output_type": "stream",
     "text": [
      "Model: \"model\"\n",
      "_________________________________________________________________\n",
      "Layer (type)                 Output Shape              Param #   \n",
      "=================================================================\n",
      "input_1 (InputLayer)         [(None, 28, 28, 1)]       0         \n",
      "_________________________________________________________________\n",
      "conv2d (Conv2D)              (None, 28, 28, 16)        160       \n",
      "_________________________________________________________________\n",
      "max_pooling2d (MaxPooling2D) (None, 14, 14, 16)        0         \n",
      "_________________________________________________________________\n",
      "conv2d_1 (Conv2D)            (None, 14, 14, 8)         1160      \n",
      "_________________________________________________________________\n",
      "conv2d_2 (Conv2D)            (None, 14, 14, 16)        1168      \n",
      "_________________________________________________________________\n",
      "up_sampling2d (UpSampling2D) (None, 28, 28, 16)        0         \n",
      "_________________________________________________________________\n",
      "conv2d_3 (Conv2D)            (None, 28, 28, 1)         145       \n",
      "=================================================================\n",
      "Total params: 2,633\n",
      "Trainable params: 2,633\n",
      "Non-trainable params: 0\n",
      "_________________________________________________________________\n"
     ]
    }
   ],
   "source": [
    "from tensorflow.keras.layers import Input, Dense, Conv2D, MaxPooling2D, UpSampling2D\n",
    "from tensorflow.keras.models import Model\n",
    "\n",
    "# 編碼器\n",
    "input_img = Input(shape=(28,28,1))\n",
    "x = Conv2D(filters=16, kernel_size=(3,3), activation='relu', padding='same')(input_img)\n",
    "x = MaxPooling2D(pool_size=(2,2))(x)\n",
    "encoded = Conv2D(filters=8, kernel_size=(3,3), activation='relu', padding='same')(x)\n",
    "\n",
    "\n",
    "# 解碼器\n",
    "x = Conv2D(filters=16, kernel_size=(3,3), activation='relu', padding='same')(encoded)\n",
    "x = UpSampling2D(size=(2,2))(x)\n",
    "decoded = Conv2D(filters=1,kernel_size=(3,3), activation='sigmoid', padding='same')(x)\n",
    "\n",
    "autoencodeur = Model(input_img, decoded)\n",
    "autoencodeur.summary()\n"
   ]
  },
  {
   "cell_type": "code",
   "execution_count": 4,
   "metadata": {},
   "outputs": [
    {
     "name": "stdout",
     "output_type": "stream",
     "text": [
      "Epoch 1/5\n",
      "235/235 [==============================] - 37s 152ms/step - loss: 0.1655\n",
      "Epoch 2/5\n",
      "235/235 [==============================] - 36s 153ms/step - loss: 0.0701\n",
      "Epoch 3/5\n",
      "235/235 [==============================] - 38s 161ms/step - loss: 0.0673\n",
      "Epoch 4/5\n",
      "235/235 [==============================] - 37s 159ms/step - loss: 0.0661\n",
      "Epoch 5/5\n",
      "235/235 [==============================] - 37s 157ms/step - loss: 0.0653\n"
     ]
    },
    {
     "data": {
      "text/plain": [
       "<tensorflow.python.keras.callbacks.History at 0x2409b34eb50>"
      ]
     },
     "execution_count": 4,
     "metadata": {},
     "output_type": "execute_result"
    }
   ],
   "source": [
    "\n",
    "\n",
    "autoencodeur.compile(optimizer='Adam',loss='binary_crossentropy')\n",
    "autoencodeur.fit(x_train, x_train, batch_size=256, epochs=5)\n"
   ]
  },
  {
   "cell_type": "code",
   "execution_count": 5,
   "metadata": {},
   "outputs": [
    {
     "data": {
      "image/png": "[encoded data removed]",
      "text/plain": [
       "<Figure size 1296x288 with 20 Axes>"
      ]
     },
     "metadata": {
      "needs_background": "light"
     },
     "output_type": "display_data"
    }
   ],
   "source": [
    "def MNIST_AE_disp(img_in, img_out, img_idx):\n",
    "\n",
    "    num_img = len(img_idx)\n",
    "    plt.figure(figsize=(18, 4))\n",
    "\n",
    "    for i, image_idx in enumerate(img_idx):\n",
    "        # 顯示輸入圖像\n",
    "        ax = plt.subplot(2, num_img, i + 1)\n",
    "        plt.imshow(img_in[image_idx].reshape(28, 28))\n",
    "        plt.gray()\n",
    "        ax.get_xaxis().set_visible(False)\n",
    "        ax.get_yaxis().set_visible(False)\n",
    "\n",
    "        # 顯示輸出圖像\n",
    "        ax = plt.subplot(2, num_img, num_img + i + 1)\n",
    "        plt.imshow(img_out[image_idx].reshape(28, 28))\n",
    "        plt.gray()\n",
    "        ax.get_xaxis().set_visible(False)\n",
    "        ax.get_yaxis().set_visible(False)\n",
    "    plt.show()\n",
    "    \n",
    "# 挑選十個隨機圖片\n",
    "num_images=10\n",
    "np.random.seed(42)\n",
    "random_test_images=np.random.randint(x_test.shape[0], size=num_images)\n",
    "# 預測輸出的圖片\n",
    "decoded_img=autoencodeur.predict(x_test)\n",
    "# print(decoded_img.shape)\n",
    "# 顯示並對比輸出圖片\n",
    "MNIST_AE_disp(x_test,decoded_imgt, random_test_images)"
   ]
  }
 ],
 "metadata": {
  "kernelspec": {
   "display_name": "Python 3",
   "language": "python",
   "name": "python3"
  },
  "language_info": {
   "codemirror_mode": {
    "name": "ipython",
    "version": 3
   },
   "file_extension": ".py",
   "mimetype": "text/x-python",
   "name": "python",
   "nbconvert_exporter": "python",
   "pygments_lexer": "ipython3",
   "version": "3.7.6"
  }
 },
 "nbformat": 4,
 "nbformat_minor": 5
}
